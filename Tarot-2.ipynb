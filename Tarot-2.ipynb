{
 "cells": [
  {
   "cell_type": "code",
   "execution_count": 11,
   "id": "hollow-sleep",
   "metadata": {},
   "outputs": [
    {
     "name": "stdout",
     "output_type": "stream",
     "text": [
      "Your past is the Strength card. \n",
      "Your present is the The Emperor card. \n",
      "Your future is the The Hermit card. \n"
     ]
    }
   ],
   "source": [
    "import random\n",
    "\n",
    "tarot = { 1: \"The Magician\", 2: \"The High Priestess\", 3: \"The Empress\", 4: \"The Emperor\", 5: \"The Hierophant\", 6: \"The Lovers\", 7: \"The Chariot\", 8: \"Strength\", 9: \"The Hermit\", 10: \"Wheel of Fortune\", 11: \"Justice\", 12: \"The Hanged Man\", 13: \"Death\", 14: \"Temperance\", 15: \"The Devil\", 16: \"The Tower\", 17: \"The Star\", 18: \"The Moon\", 19: \"The Sun\", 20: \"Judgement\", 21: \"The World\", 22: \"The Fool\"}\n",
    "\n",
    "spread = {}\n",
    "\n",
    "spread[\"past\"] = tarot.pop(random.randint(1,22))\n",
    "spread[\"present\"] = tarot.pop(random.randint(1,22))\n",
    "spread[\"future\"] = tarot.pop(random.randint(1,22))\n",
    "\n",
    "for key, value in spread.items():\n",
    "  print(\"Your \"+key+\" is the \"+value+\" card. \")"
   ]
  },
  {
   "cell_type": "code",
   "execution_count": null,
   "id": "danish-classification",
   "metadata": {},
   "outputs": [],
   "source": []
  }
 ],
 "metadata": {
  "kernelspec": {
   "display_name": "Python 3",
   "language": "python",
   "name": "python3"
  },
  "language_info": {
   "codemirror_mode": {
    "name": "ipython",
    "version": 3
   },
   "file_extension": ".py",
   "mimetype": "text/x-python",
   "name": "python",
   "nbconvert_exporter": "python",
   "pygments_lexer": "ipython3",
   "version": "3.9.1"
  }
 },
 "nbformat": 4,
 "nbformat_minor": 5
}
